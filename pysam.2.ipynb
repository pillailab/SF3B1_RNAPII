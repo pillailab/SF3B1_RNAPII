{
 "cells": [
  {
   "cell_type": "code",
   "execution_count": 2,
   "metadata": {},
   "outputs": [
    {
     "data": {
      "text/plain": [
       "'\\n\\nuse pysam to determine mutations\\n'"
      ]
     },
     "execution_count": 2,
     "metadata": {},
     "output_type": "execute_result"
    }
   ],
   "source": [
    "'''\n",
    "\n",
    "use pysam to determine mutations of TL-seq files\n",
    "\n",
    "'''"
   ]
  },
  {
   "cell_type": "code",
   "execution_count": 3,
   "metadata": {},
   "outputs": [],
   "source": [
    "import os\n",
    "import sys\n",
    "import re\n",
    "import glob"
   ]
  },
  {
   "cell_type": "code",
   "execution_count": 4,
   "metadata": {},
   "outputs": [],
   "source": [
    "import pysam\n",
    "import pybedtools\n",
    "from pybedtools import BedTool"
   ]
  },
  {
   "cell_type": "code",
   "execution_count": 3,
   "metadata": {},
   "outputs": [],
   "source": [
    "import numpy as np\n",
    "import pandas as pd\n",
    "\n",
    "from plotnine import *\n",
    "import warnings\n",
    "warnings.filterwarnings('ignore')\n",
    "\n",
    "import matplotlib\n",
    "matplotlib.rcParams['pdf.fonttype'] = 42 # export pdfs with editable font types in Illustrator"
   ]
  },
  {
   "cell_type": "code",
   "execution_count": null,
   "metadata": {},
   "outputs": [],
   "source": [
    "for dirpath, dirnames, filenames in os.walk('/vast/palmer/scratch/pillai/mp758/2023/September_2023/TL-seq',\n",
    "                                           topdown=True):  \n",
    "    print(dirnames)"
   ]
  },
  {
   "cell_type": "code",
   "execution_count": 5,
   "metadata": {},
   "outputs": [
    {
     "data": {
      "text/plain": [
       "['MPR146', 'MPR147', 'MPR148']"
      ]
     },
     "execution_count": 5,
     "metadata": {},
     "output_type": "execute_result"
    }
   ],
   "source": [
    "d1='/vast/palmer/scratch/pillai/mp758/2023/September_2023/TL-seq/MUT/'\n",
    "#dirlist1 = os.listdir('/vast/palmer/scratch/pillai/mp758/2023/September_2023/TL-seq')\n",
    "os.listdir(d1)"
   ]
  },
  {
   "cell_type": "code",
   "execution_count": 17,
   "metadata": {},
   "outputs": [],
   "source": [
    "a1=os.path.abspath(d1)\n"
   ]
  },
  {
   "cell_type": "code",
   "execution_count": null,
   "metadata": {},
   "outputs": [],
   "source": [
    "dirlist1 = os.listdir(d1)\n",
    "dirlist2 = []\n",
    "for f in dirlist1:\n",
    "    if \"MPR\" in f:\n",
    "\n",
    "        dirlist2.append(f)\n",
    "    else:\n",
    "        pass\n",
    "print(dirlist1, dirlist2)"
   ]
  },
  {
   "cell_type": "code",
   "execution_count": null,
   "metadata": {},
   "outputs": [],
   "source": [
    "for f in dirlist2:\n",
    "    bam1 = pysam.AlignmentFile(d1+\"/\"+f+\"/\"+f+\".hisat-3n.bam\", \"rb\")\n",
    "    out_bam_all = pysam.AlignmentFile(d1+\"/\"+f+\"/\"+f+\".hisat-3n.Yf1plus.bam\", \"w\", template = bam1)\n",
    "    \n",
    "    i=1\n",
    "    for read in bam1.fetch():\n",
    "        i+=1\n",
    "    \n",
    "        tag=read.get_tags()\n",
    "        if read.has_tag(\"Yf\") & read.has_tag(\"NH\"):\n",
    "            Yf = int(read.get_tag(\"Yf\"))\n",
    "            NH = int(read.get_tag(\"NH\"))\n",
    "            #print(Yf,NH)\n",
    "            if (Yf >= 1) and (NH == 1):\n",
    "                out_bam_all.write(read)\n",
    "            #print(read)\n",
    "            else:\n",
    "                continue\n",
    "        else:\n",
    "            continue\n",
    "        if i >5000:\n",
    "            break\n",
    "    print(f)\n",
    "out_bam_all.close()\n"
   ]
  },
  {
   "cell_type": "code",
   "execution_count": null,
   "metadata": {},
   "outputs": [],
   "source": [
    "len1 = len(dirlist2)\n",
    "i=0\n",
    "for f in dirlist2:\n",
    "    i=i+1\n",
    "    if i<=len1:\n",
    "        print(f)\n",
    "    else:\n",
    "        break"
   ]
  },
  {
   "cell_type": "code",
   "execution_count": 4,
   "metadata": {},
   "outputs": [],
   "source": [
    "bam1 = '/vast/palmer/scratch/pillai/mp758/2023/September_2023/TL-seq/MPR143/MPR143.hisat-3n.bam'"
   ]
  },
  {
   "cell_type": "code",
   "execution_count": 5,
   "metadata": {},
   "outputs": [],
   "source": [
    "bam1 = pysam.AlignmentFile('/vast/palmer/scratch/pillai/mp758/2023/September_2023/TL-seq/MPR143/MPR143.hisat-3n.bam', \"r\")"
   ]
  },
  {
   "cell_type": "code",
   "execution_count": 6,
   "metadata": {},
   "outputs": [],
   "source": [
    "out_bam = pysam.AlignmentFile('/vast/palmer/scratch/pillai/mp758/2023/September_2023/TL-seq/MPR143/MPR143.hisat-3n.Yf1.bam', \"w\", template=bam1) # template needs to be same as bam1a/home/mp758/scratch60/SF3B1_PRC2_1/December_2021/TT-TL-seq/MPR125/MPR125.hisat-3n.snp.bam'"
   ]
  },
  {
   "cell_type": "code",
   "execution_count": null,
   "metadata": {},
   "outputs": [],
   "source": [
    "i=1\n",
    "for read in bam1.fetch():\n",
    "    i+=1\n",
    "    \n",
    "    tag=read.get_tags()\n",
    "    if read.has_tag(\"Yf\") & read.has_tag(\"NH\"):\n",
    "        Yf = read.get_tag(\"Yf\")\n",
    "        NH = read.get_tag(\"NH\")\n",
    "        #print(Yf,NH)\n",
    "        if Yf >=1 & NH == 1:\n",
    "            out_bam.write(read)\n",
    "            #print(read)\n",
    "        else:\n",
    "            continue\n",
    "    else:\n",
    "        continue\n",
    "    #if i >5000:\n",
    "        #break\n",
    "print(i)\n",
    "        \n",
    "\n"
   ]
  },
  {
   "cell_type": "code",
   "execution_count": 25,
   "metadata": {},
   "outputs": [],
   "source": [
    "out_bam2 = pysam.AlignmentFile('/home/mp758/scratch60/SF3B1_PRC2_1/December_2021/TT-TL-seq/MPR126/MPR126.hisat-3n.snp1.Yf1_2.sam', \"w\", template=bam1) # template needs to be same as bam1a/home/mp758/scratch60/SF3B1_PRC2_1/December_2021/TT-TL-seq/MPR125/MPR125.hisat-3n.snp.bam'"
   ]
  },
  {
   "cell_type": "code",
   "execution_count": null,
   "metadata": {},
   "outputs": [],
   "source": [
    "i=1\n",
    "for read in bam1.fetch():\n",
    "    i+=1\n",
    "    \n",
    "    tag=read.get_tags()\n",
    "    if read.has_tag(\"Yf\") & read.has_tag(\"NH\"):\n",
    "        Yf = read.get_tag(\"Yf\")\n",
    "        NH = read.get_tag(\"NH\")\n",
    "        #print(Yf,NH)\n",
    "        if Yf ==1 & NH == 1:\n",
    "            out_bam.write(read)\n",
    "            #print(read)\n",
    "        else:\n",
    "            continue\n",
    "    else:\n",
    "        continue\n",
    "    #if i >5000:\n",
    "        #break\n",
    "print(i)\n",
    "        \n",
    "\n"
   ]
  },
  {
   "cell_type": "code",
   "execution_count": null,
   "metadata": {},
   "outputs": [],
   "source": [
    "i=1\n",
    "for read in bam1.fetch():\n",
    "\n",
    "    tag=read.get_tags()\n",
    "    if read.has_tag(\"Yf\") & read.has_tag(\"NH\"):\n",
    "        Yf = read.get_tag(\"Yf\")\n",
    "        NH = read.get_tag(\"NH\")\n",
    "        #print(Yf,NH)\n",
    "        if NH == 1 & Yf >=1:\n",
    "            #out_bam2.write(read)\n",
    "            print(Yf,NH)\n",
    "            print(read)\n",
    "        else:\n",
    "            print(\"no\")\n",
    "    else:\n",
    "        print(\"bleh\", read)\n",
    "    \n",
    "print(i)\n",
    "        \n",
    "\n"
   ]
  },
  {
   "cell_type": "code",
   "execution_count": null,
   "metadata": {},
   "outputs": [],
   "source": [
    "pysam.index('/home/mp758/scratch60/SF3B1_PRC2_1/December_2021/TT-TL-seq/MPR126/MPR126.hisat-3n.snp1.Yf1.sam')"
   ]
  },
  {
   "cell_type": "code",
   "execution_count": 87,
   "metadata": {},
   "outputs": [
    {
     "data": {
      "text/plain": [
       "<pysam.libcalignmentfile.AlignmentFile at 0x2b16944ae670>"
      ]
     },
     "execution_count": 87,
     "metadata": {},
     "output_type": "execute_result"
    }
   ],
   "source": [
    "pysam.sort"
   ]
  },
  {
   "cell_type": "code",
   "execution_count": null,
   "metadata": {},
   "outputs": [],
   "source": [
    "out_file=pysam.AlignmentFile('out_bam', 'rb')\n",
    "\n",
    "i=1\n",
    "for read in out_file.fetch():\n",
    "    i=i+1\n",
    "    print(read)\n",
    "    if i>3:\n",
    "        break\n"
   ]
  },
  {
   "cell_type": "code",
   "execution_count": 9,
   "metadata": {},
   "outputs": [],
   "source": [
    "for read in bam1a:  ## start loop and iterate over each bam\n",
    "    if read.is_secondary=true  ## not the primary alignment\n",
    "    if read.has_tag('XS')  ## look for Secondary Alignment Score tag\n",
    "        XS = read.get_tag('XS')  ## read and store AS value\n",
    "    if read.has_tag('AS')  ## look for Alignment Score tag\n",
    "        AS = read.get_tag('AS')  ## read and store value os XS tag  \n",
    "    if AS < XS  ## Alignment score less then \n",
    "        read.write(read)  ## only print primary alignments\n",
    "bam.close()  ## end processing"
   ]
  }
 ],
 "metadata": {
  "kernelspec": {
   "display_name": "Python 3 (ipykernel)",
   "language": "python",
   "name": "python3"
  },
  "language_info": {
   "codemirror_mode": {
    "name": "ipython",
    "version": 3
   },
   "file_extension": ".py",
   "mimetype": "text/x-python",
   "name": "python",
   "nbconvert_exporter": "python",
   "pygments_lexer": "ipython3",
   "version": "3.10.13"
  }
 },
 "nbformat": 4,
 "nbformat_minor": 4
}
