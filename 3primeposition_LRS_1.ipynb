{
 "cells": [
  {
   "cell_type": "code",
   "execution_count": 1,
   "metadata": {},
   "outputs": [
    {
     "data": {
      "text/plain": [
       "'\\nKS test caluclations\\n'"
      ]
     },
     "execution_count": 1,
     "metadata": {},
     "output_type": "execute_result"
    }
   ],
   "source": [
    "'''\n",
    "Creates files for 3' end for RNAPII position as CDF\n",
    "KS test caluclations\n",
    "'''"
   ]
  },
  {
   "cell_type": "code",
   "execution_count": 2,
   "metadata": {},
   "outputs": [],
   "source": [
    "import os\n",
    "import re\n",
    "\n",
    "import numpy as np\n",
    "import pandas as pd\n",
    "from pandas.api.types import CategoricalDtype\n",
    "import mygene\n",
    "import scipy\n",
    "\n",
    "from plotnine import *\n",
    "import warnings\n",
    "warnings.filterwarnings('ignore')\n",
    "\n",
    "import matplotlib\n",
    "matplotlib.rcParams['pdf.fonttype'] = 42 # export pdfs with editable font types in Illustrator"
   ]
  },
  {
   "cell_type": "code",
   "execution_count": 4,
   "metadata": {},
   "outputs": [],
   "source": [
    "# bed position for 3' end of LRS reads\n",
    "bedlist1 = [\n",
    "    '/home/mp758/scratch60/SF3B1_PRC2_1/April_2022/MUT3/MUT3.intersect.transcript-bed.waos.ratio.bed',\n",
    "    \n",
    "    '/home/mp758/scratch60/SF3B1_PRC2_1/SF3B1_LRS/porechop/MUT2/MUT2.intersect.transcript-bed.waos.ratio.bed', \n",
    "    '/home/mp758/scratch60/SF3B1_PRC2_1/SF3B1_LRS/porechop/WT1/WT1.intersect.transcript-bed.waos.ratio.bed', \n",
    "    '/home/mp758/scratch60/SF3B1_PRC2_1/SF3B1_LRS/porechop/WT2/WT2.intersect.transcript-bed.waos.ratio.bed'\n",
    "            ]\n",
    "    \n",
    "    \n",
    "    \n",
    "    "
   ]
  },
  {
   "cell_type": "code",
   "execution_count": 5,
   "metadata": {},
   "outputs": [],
   "source": [
    "# function to generate relative position across gene body\n",
    "# separately for each of the clusters (defined by RNAPII ChiP-seq). But can be run for one bed\n",
    "def Threeprimeposition(bed):\n",
    "    # read gtf of all expressed genes\n",
    "    gtf1 = pd.read_csv('/home/mp758/scratch60/GenomeBuilds_scratch60/Chiazzi/GSE148433_human.refseq.major.TR.gtf',\n",
    "            sep = \"\\t\", skiprows=3, index_col=False,\n",
    "            names = ['A', 'B', 'C', 'D', 'E', 'F', 'G', 'H', 'I']\n",
    "                  )\n",
    "    gtf1['gene_id'] = gtf1['I'].str.split(\";\").str[0].str.split(\" \").str[1].str.strip(\"\\\"\") # split gene name from 9th column\n",
    "    gtf1['transcript_id'] = gtf1['I'].str.split(\";\").str[1].str.split(\" \").str[2].str.strip(\"\\\"\") # split transcript_id name from 9th column\n",
    "    namea, nameb = os.path.split(bed)\n",
    "    namec = nameb.split(\".\")[0]\n",
    "    bed = pd.read_csv(bed, \n",
    "                      delimiter = '\\t', index_col = False,\n",
    "                      names =  ['chr', 'start', 'end', 'name', 'score', 'strand','chrb', 'startb', 'endb', 'nameb', 'scoreb', 'strandb',\"A13\",\"A14\",\"A15\",\"ratio\" ])\n",
    "    # use aggregate function to count\n",
    "    agg_func_math = {\n",
    "        'ratio':\n",
    "        ['mean', 'median', 'min', 'max', 'std', 'var', 'count']\n",
    "        }\n",
    "    three_prime_position = bed.groupby(['name']).agg(agg_func_math).round(2)\n",
    "    three_prime_position.columns = ['mean', 'median', 'min', 'max', 'std', 'var', 'count']\n",
    "    three_prime_position = three_prime_position[three_prime_position['count'] > 10]\n",
    "    three_prime_position  = three_prime_position.reset_index()\n",
    "    three_prime_position = three_prime_position.rename(columns = {'name':'transcript_id'})\n",
    "    \n",
    "    bed1=pd.read_csv('/gpfs/ysm/scratch60/pillai/pb694/SF3B1/Feb_2022/ChIP_clusteranalysis/Cluster1.bed',\n",
    "                 sep = \"\\t\", skiprows=3, index_col=False,\n",
    "            names = ['chr', 'start', 'end', 'gene_id']\n",
    "                )\n",
    "    bed2=pd.read_csv('/gpfs/ysm/scratch60/pillai/pb694/SF3B1/Feb_2022/ChIP_clusteranalysis/Cluster2.bed',\n",
    "                 sep = \"\\t\", skiprows=3, index_col=False,\n",
    "            names = ['chr', 'start', 'end', 'gene_id']\n",
    "                )\n",
    "    bed3=pd.read_csv('/gpfs/ysm/scratch60/pillai/pb694/SF3B1/Feb_2022/ChIP_clusteranalysis/Cluster3.bed',\n",
    "                 sep = \"\\t\", skiprows=3, index_col=False,\n",
    "            names = ['chr', 'start', 'end', 'gene_id']\n",
    "                )\n",
    "    gtf1_cluster1 = gtf1.merge(bed1, on='gene_id', how = \"inner\")\n",
    "    gtf1_cluster2 = gtf1.merge(bed2, on='gene_id', how = \"inner\")\n",
    "    gtf1_cluster3 = gtf1.merge(bed3, on='gene_id', how = \"inner\")\n",
    "    \n",
    "    Cluster1_three_prime_position = gtf1_cluster1.merge(three_prime_position, on = 'transcript_id', how = 'inner')\n",
    "    Cluster2_three_prime_position = gtf1_cluster2.merge(three_prime_position, on = 'transcript_id', how = 'inner')\n",
    "    Cluster3_three_prime_position = gtf1_cluster3.merge(three_prime_position, on = 'transcript_id', how = 'inner')\n",
    "    \n",
    "    Cluster1_three_prime_position = Cluster1_three_prime_position [['transcript_id',\n",
    "       'chr', 'start', 'end', 'mean', 'median', 'min', 'max', 'std', 'var',\n",
    "       'count']]\n",
    "    Cluster2_three_prime_position = Cluster2_three_prime_position [['transcript_id',\n",
    "       'chr', 'start', 'end', 'mean', 'median', 'min', 'max', 'std', 'var',\n",
    "       'count']]\n",
    "    Cluster3_three_prime_position = Cluster3_three_prime_position [['transcript_id',\n",
    "       'chr', 'start', 'end', 'mean', 'median', 'min', 'max', 'std', 'var',\n",
    "       'count']]\n",
    "    \n",
    "    Cluster1_three_prime_position.to_csv(namea+'/'+namec+\"_Cluster1_3primeposition.txt\", sep = \"\\t\", header = True, index=False)\n",
    "    Cluster2_three_prime_position.to_csv(namea+'/'+namec+\"_Cluster2_3primeposition.txt\", sep = \"\\t\", header = True, index=False)\n",
    "    Cluster3_three_prime_position.to_csv(namea+'/'+namec+\"_Cluster3_3primeposition.txt\", sep = \"\\t\", header = True, index=False)\n"
   ]
  },
  {
   "cell_type": "code",
   "execution_count": null,
   "metadata": {},
   "outputs": [],
   "source": [
    "for bed in bedlist2:\n",
    "    Threeprimeposition(bed)\n",
    "    "
   ]
  },
  {
   "cell_type": "code",
   "execution_count": 19,
   "metadata": {},
   "outputs": [],
   "source": []
  },
  {
   "cell_type": "code",
   "execution_count": 49,
   "metadata": {},
   "outputs": [],
   "source": [
    "# Running KS test \n",
    "\n",
    "def KS_2samp():\n",
    "    folder = '/home/mp758/scratch60/SF3B1_PRC2_1/SF3B1_LRS/porechop/3primeposition/combined/'\n",
    "    for i in range(1,4):\n",
    "        \n",
    "        data1 = pd.read_csv(folder+\"WT1-2\"+\"_Cluster\"+str(i)+\"_3primeposition.txt\",\n",
    "                    sep = \"\\t\",  index_col=False\n",
    "                           )\n",
    "        data2 = pd.read_csv(folder+\"MUT2-3\"+\"_Cluster\"+str(i)+\"_3primeposition.txt\",\n",
    "                    sep = \"\\t\",  index_col=False\n",
    "                           )\n",
    "        a = \"WT1-2\"+\"_Cluster\"+str(i)\n",
    "        b = \"MUT2-3\"+\"_Cluster\"+str(i)\n",
    "        print(a)\n",
    "        print(b)\n",
    "        #print(data1.head(2))\n",
    "        #print(data2.head(2))\n",
    "        with open(folder+\"/KS_Cluster1-3.txt\", 'a') as f:\n",
    "            f.write(a + \"\\t\" + b + \"\\t\" + str(scipy.stats.ks_2samp(data1['mean'], data2['mean'])) + \"\\n\")\n",
    "        print(scipy.stats.ks_2samp(data1['mean'], data2['mean']))\n",
    "            "
   ]
  },
  {
   "cell_type": "markdown",
   "metadata": {},
   "source": [
    "KS_2samp()"
   ]
  }
 ],
 "metadata": {
  "kernelspec": {
   "display_name": "Python 3",
   "language": "python",
   "name": "python3"
  },
  "language_info": {
   "codemirror_mode": {
    "name": "ipython",
    "version": 3
   },
   "file_extension": ".py",
   "mimetype": "text/x-python",
   "name": "python",
   "nbconvert_exporter": "python",
   "pygments_lexer": "ipython3",
   "version": "3.9.7"
  }
 },
 "nbformat": 4,
 "nbformat_minor": 4
}
