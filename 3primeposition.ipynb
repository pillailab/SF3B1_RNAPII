{
 "cells": [
  {
   "cell_type": "code",
   "execution_count": 1,
   "metadata": {},
   "outputs": [
    {
     "data": {
      "text/plain": [
       "'\\nThis notebook analyzes splicing and cleavage using LRS data.\\nModifed from Kirstens original Fig 6 notebook\\n\\n'"
      ]
     },
     "execution_count": 1,
     "metadata": {},
     "output_type": "execute_result"
    }
   ],
   "source": [
    "'''\n",
    "This notebook analyzes 3' splice position of LRS reads\n",
    "Please refer to project/Knowledgebase/Notes for details of workflow\n",
    "Briefly, bed files are created from aligned minimap2 files\n",
    "\n",
    "'''"
   ]
  },
  {
   "cell_type": "code",
   "execution_count": 59,
   "metadata": {},
   "outputs": [],
   "source": [
    "import os\n",
    "import re\n",
    "\n",
    "import numpy as np\n",
    "import pandas as pd\n",
    "from pandas.api.types import CategoricalDtype\n",
    "import mygene\n",
    "import scipy\n",
    "\n",
    "from plotnine import *\n",
    "import warnings\n",
    "warnings.filterwarnings('ignore')\n",
    "\n",
    "import matplotlib\n",
    "matplotlib.rcParams['pdf.fonttype'] = 42 # export pdfs with editable font types in Illustrator"
   ]
  },
  {
   "cell_type": "code",
   "execution_count": null,
   "metadata": {},
   "outputs": [],
   "source": [
    "os.getcwd()"
   ]
  },
  {
   "cell_type": "code",
   "execution_count": 3,
   "metadata": {},
   "outputs": [],
   "source": [
    "# Make dataframe from \n",
    "MUT3_bed = pd.read_csv('/home/mp758/scratch60/SF3B1_PRC2_1/April_2022/MUT3/MUT3.intersect.transcript-bed.waos.ratio.bed', \n",
    "                      delimiter = '\\t', index_col = False,\n",
    "                      names =  ['chr', 'start', 'end', 'name', 'score', 'strand','chrb', 'startb', 'endb', 'nameb', 'scoreb', 'strandb',\"A13\",\"A14\",\"A15\",\"ratio\" ])"
   ]
  },
  {
   "cell_type": "code",
   "execution_count": 4,
   "metadata": {},
   "outputs": [],
   "source": [
    "# Link to annotation of all TES from UCSC Genome Browser\n",
    "MUT1_bed = pd.read_csv('/home/mp758/scratch60/SF3B1_PRC2_1/SF3B1_LRS/porechop/MUT1/MUT1.intersect.transcript-bed.waos.ratio.bed', \n",
    "                      delimiter = '\\t', index_col = False,\n",
    "                      names =  ['chr', 'start', 'end', 'name', 'score', 'strand','chrb', 'startb', 'endb', 'nameb', 'scoreb', 'strandb',\"A13\",\"A14\",\"A15\",\"ratio\" ])"
   ]
  },
  {
   "cell_type": "code",
   "execution_count": 5,
   "metadata": {},
   "outputs": [],
   "source": [
    "# Link to annotation of all TES from UCSC Genome Browser\n",
    "MUT2_bed = pd.read_csv('/home/mp758/scratch60/SF3B1_PRC2_1/SF3B1_LRS/porechop/MUT2/MUT2.intersect.transcript-bed.waos.ratio.bed', \n",
    "                      delimiter = '\\t', index_col = False,\n",
    "                      names =  ['chr', 'start', 'end', 'name', 'score', 'strand','chrb', 'startb', 'endb', 'nameb', 'scoreb', 'strandb',\"A13\",\"A14\",\"A15\",\"ratio\" ])"
   ]
  },
  {
   "cell_type": "code",
   "execution_count": 6,
   "metadata": {},
   "outputs": [],
   "source": [
    "# Link to annotation of all TES from UCSC Genome Browser\n",
    "WT1_bed = pd.read_csv('/home/mp758/scratch60/SF3B1_PRC2_1/SF3B1_LRS/porechop/WT1/WT1.intersect.transcript-bed.waos.ratio.bed', \n",
    "                      delimiter = '\\t', index_col = False,\n",
    "                      names =  ['chr', 'start', 'end', 'name', 'score', 'strand','chrb', 'startb', 'endb', 'nameb', 'scoreb', 'strandb',\"A13\",\"A14\",\"A15\",\"ratio\" ])"
   ]
  },
  {
   "cell_type": "code",
   "execution_count": 7,
   "metadata": {},
   "outputs": [],
   "source": [
    "# Link to annotation of all TES from UCSC Genome Browser\n",
    "WT2_bed = pd.read_csv('/home/mp758/scratch60/SF3B1_PRC2_1/SF3B1_LRS/porechop/WT2/WT2.intersect.transcript-bed.waos.ratio.bed', \n",
    "                      delimiter = '\\t', index_col = False,\n",
    "                      names =  ['chr', 'start', 'end', 'name', 'score', 'strand','chrb', 'startb', 'endb', 'nameb', 'scoreb', 'strandb',\"A13\",\"A14\",\"A15\",\"ratio\" ])"
   ]
  },
  {
   "cell_type": "code",
   "execution_count": 60,
   "metadata": {},
   "outputs": [],
   "source": [
    "# Link to annotation of all TES from UCSC Genome Browser\n",
    "WT_bed = pd.read_csv('/home/mp758/scratch60/SF3B1_PRC2_1/SF3B1_LRS/porechop/3primeposition/combined/WT1-2.intersect.transcript-bed.waos.ratio.bed', \n",
    "                      delimiter = '\\t', index_col = False,\n",
    "                      names =  ['chr', 'start', 'end', 'name', 'score', 'strand','chrb', 'startb', 'endb', 'nameb', 'scoreb', 'strandb',\"A13\",\"A14\",\"A15\",\"ratio\" ])\n",
    "\n",
    "MUT_bed = pd.read_csv('/home/mp758/scratch60/SF3B1_PRC2_1/SF3B1_LRS/porechop/3primeposition/combined/MUT2-3.intersect.transcript-bed.waos.ratio.bed', \n",
    "                      delimiter = '\\t', index_col = False,\n",
    "                      names =  ['chr', 'start', 'end', 'name', 'score', 'strand','chrb', 'startb', 'endb', 'nameb', 'scoreb', 'strandb',\"A13\",\"A14\",\"A15\",\"ratio\" ])\n"
   ]
  },
  {
   "cell_type": "code",
   "execution_count": 10,
   "metadata": {},
   "outputs": [],
   "source": [
    "# passing function for aggregation\n",
    "agg_func_math = {\n",
    "    'ratio':\n",
    "    ['mean', 'median', 'min', 'max', 'std', 'var', 'count']\n",
    "}"
   ]
  },
  {
   "cell_type": "code",
   "execution_count": 42,
   "metadata": {},
   "outputs": [],
   "source": [
    "MUT3_3prime_position = MUT3_bed.groupby(['name']).agg(agg_func_math).round(2)\n",
    "MUT3_3prime_position.columns = ['mean', 'median', 'min', 'max', 'std', 'var', 'count']\n",
    "\n",
    "MUT3_3prime_position = MUT3_3prime_position[MUT3_3prime_position['count'] > 10]"
   ]
  },
  {
   "cell_type": "code",
   "execution_count": 43,
   "metadata": {},
   "outputs": [],
   "source": [
    "MUT1_3prime_position = MUT1_bed.groupby(['name']).agg(agg_func_math).round(2)\n",
    "MUT1_3prime_position.columns = ['mean', 'median', 'min', 'max', 'std', 'var', 'count']\n",
    "\n",
    "MUT1_3prime_position = MUT1_3prime_position[MUT1_3prime_position['count'] > 10]"
   ]
  },
  {
   "cell_type": "code",
   "execution_count": 44,
   "metadata": {},
   "outputs": [],
   "source": [
    "MUT2_3prime_position = MUT2_bed.groupby(['name']).agg(agg_func_math).round(2)\n",
    "MUT2_3prime_position.columns = ['mean', 'median', 'min', 'max', 'std', 'var', 'count']\n",
    "\n",
    "MUT2_3prime_position = MUT2_3prime_position[MUT2_3prime_position['count'] > 10]"
   ]
  },
  {
   "cell_type": "code",
   "execution_count": 45,
   "metadata": {},
   "outputs": [],
   "source": [
    "WT1_3prime_position = WT1_bed.groupby(['name']).agg(agg_func_math).round(2)\n",
    "WT1_3prime_position.columns = ['mean', 'median', 'min', 'max', 'std', 'var', 'count']\n",
    "\n",
    "WT1_3prime_position = WT1_3prime_position[WT1_3prime_position['count'] > 10]"
   ]
  },
  {
   "cell_type": "code",
   "execution_count": 46,
   "metadata": {},
   "outputs": [],
   "source": [
    "WT2_3prime_position = WT2_bed.groupby(['name']).agg(agg_func_math).round(2)\n",
    "WT2_3prime_position.columns = ['mean', 'median', 'min', 'max', 'std', 'var', 'count']\n",
    "\n",
    "WT2_3prime_position = WT2_3prime_position[WT2_3prime_position['count'] > 10]"
   ]
  },
  {
   "cell_type": "code",
   "execution_count": 67,
   "metadata": {},
   "outputs": [],
   "source": [
    "WT_3prime_position = WT_bed.groupby(['name']).agg(agg_func_math).round(2)\n",
    "WT_3prime_position.columns = ['mean', 'median', 'min', 'max', 'std', 'var', 'count']\n",
    "WT_3prime_position = WT_3prime_position[WT_3prime_position['count'] > 10]\n",
    "\n",
    "MUT_3prime_position = MUT_bed.groupby(['name']).agg(agg_func_math).round(2)\n",
    "MUT_3prime_position.columns = ['mean', 'median', 'min', 'max', 'std', 'var', 'count']\n",
    "MUT_3prime_position = MUT_3prime_position[MUT_3prime_position['count'] > 10]"
   ]
  },
  {
   "cell_type": "code",
   "execution_count": 52,
   "metadata": {},
   "outputs": [],
   "source": [
    "MUT1_3prime_position.to_csv('/home/mp758/scratch60/SF3B1_PRC2_1/SF3B1_LRS/porechop/3primeposition/MUT1_3primeposition.txt',\n",
    "                           sep = '\\t', index = False, header = True) "
   ]
  },
  {
   "cell_type": "code",
   "execution_count": 53,
   "metadata": {},
   "outputs": [],
   "source": [
    "MUT2_3prime_position.to_csv('/home/mp758/scratch60/SF3B1_PRC2_1/SF3B1_LRS/porechop/3primeposition/MUT2_3primeposition.txt',\n",
    "                            sep = '\\t', index = False, header = True) "
   ]
  },
  {
   "cell_type": "code",
   "execution_count": 54,
   "metadata": {},
   "outputs": [],
   "source": [
    "MUT3_3prime_position.to_csv('/home/mp758/scratch60/SF3B1_PRC2_1/SF3B1_LRS/porechop/3primeposition/MUT3_3primeposition.txt',\n",
    "                            sep = '\\t', index = False, header = True) "
   ]
  },
  {
   "cell_type": "code",
   "execution_count": 55,
   "metadata": {},
   "outputs": [],
   "source": [
    "WT1_3prime_position.to_csv('/home/mp758/scratch60/SF3B1_PRC2_1/SF3B1_LRS/porechop/3primeposition/WT1_3primeposition.txt',\n",
    "                            sep = '\\t', index = False, header = True)   "
   ]
  },
  {
   "cell_type": "code",
   "execution_count": 56,
   "metadata": {},
   "outputs": [],
   "source": [
    "WT2_3prime_position.to_csv('/home/mp758/scratch60/SF3B1_PRC2_1/SF3B1_LRS/porechop/3primeposition/WT2_3primeposition.txt',\n",
    "                           sep = '\\t', index = False, header = True)    "
   ]
  },
  {
   "cell_type": "code",
   "execution_count": 71,
   "metadata": {},
   "outputs": [],
   "source": [
    "WT_3prime_position.to_csv('/home/mp758/scratch60/SF3B1_PRC2_1/SF3B1_LRS/porechop/3primeposition/WT1-2_3primeposition.txt',\n",
    "                           sep = '\\t', index = False, header = True)    \n",
    "\n",
    "MUT_3prime_position.to_csv('/home/mp758/scratch60/SF3B1_PRC2_1/SF3B1_LRS/porechop/3primeposition/MUT2-3_3primeposition.txt',\n",
    "                           sep = '\\t', index = False, header = True)   "
   ]
  },
  {
   "cell_type": "code",
   "execution_count": 76,
   "metadata": {},
   "outputs": [],
   "source": [
    "cluster1_bed=pd.read_csv('/home/mp758/scratch60/SF3B1_PRC2_1/Boddu_clusters/cluster_1.bed6.sorted.bed',\n",
    "                         sep = \"\\t\", header = None,\n",
    "                        names = ['chr', 'start', 'end', 'name', 'score', 'strand'])\n",
    "                "
   ]
  },
  {
   "cell_type": "code",
   "execution_count": 78,
   "metadata": {},
   "outputs": [],
   "source": [
    "major_gene_bed=pd.read_csv('/home/mp758/project/Tools/R/Ciazzi/Efficient-RNA-polymerase-II-pause-release-requires-U2-snRNP-function_2021/Annotation/K562.4day-WT-MUT.refseq.major.genes.TR.bed',\n",
    "                         sep = \"\\t\", header = None,\n",
    "                        names = ['chr', 'start', 'end', 'name', 'score', 'strand'])\n",
    "                "
   ]
  },
  {
   "cell_type": "code",
   "execution_count": 17,
   "metadata": {},
   "outputs": [],
   "source": [
    "WT2_grouped = WT2_TES.groupby(['strand', 'position']).agg({'count':'sum'}) # group by position and strand, sum all counts\n",
    "\n",
    "tmp = WT2_grouped.unstack(level='strand') # separate plus and minus strand counts\n",
    "\n",
    "tmp_plus = tmp['count', '+'].to_frame() # convert both + and - strand series to dataframes\n",
    "tmp_minus = tmp['count', '-'].to_frame()\n",
    "tmp_minus = tmp_minus[::-1] # reverse order of the entries in the minus strand df\n",
    "\n",
    "tmp_minus['new_position'] = list(range(1,1101,1)) # reset the position to be 1-50 for the minus strand so it matches plus strand (flipped)"
   ]
  },
  {
   "cell_type": "code",
   "execution_count": 18,
   "metadata": {},
   "outputs": [],
   "source": [
    "    WT2_coverage = pd.merge(tmp_plus, tmp_minus, left_index = True, right_on = 'new_position')\n",
    "\n",
    "    WT2_coverage['total_count'] = WT2_coverage['count', '+'] + WT2_coverage['count', '-']\n",
    "    WT2_coverage = WT2_coverage[['new_position', 'total_count']] # drop separate count columns for each strand\n",
    "    WT2_coverage['rel_position'] = range(-100,1000,1) # add relative position around TES\n",
    "    \n",
    "\n",
    "    TES_val = WT2_coverage['total_count'].values[1] # get the coverage at the TES nucleotide position\n",
    "    WT2_coverage['TES_pos_count'] = TES_val\n",
    "    WT2_coverage['normalized_count'] = WT2_coverage['total_count'] / WT2_coverage['TES_pos_count'] # normalize coverage to TES coverage\n",
    "    WT2_coverage['sample'] = \"WT2\" # add sample identifier\n",
    "    "
   ]
  },
  {
   "cell_type": "code",
   "execution_count": 19,
   "metadata": {},
   "outputs": [],
   "source": [
    "MUT1_TES = pd.read_csv(\"/home/mp758/scratch60/SF3B1_PRC2_1/SF3B1_LRS/porechop/MUT1/MUT1_cov.txt.gz\",\n",
    "                     compression = 'gzip', sep = '\\t',\n",
    "                     names = ['chr', 'start', 'end', 'name', 'score', 'strand', 'position', 'count'])\n",
    "\n",
    "MUT2_TES = pd.read_csv(\"/home/mp758/scratch60/SF3B1_PRC2_1/SF3B1_LRS/porechop/MUT2/MUT2_cov.txt.gz\",\n",
    "                     compression = 'gzip', sep = '\\t',\n",
    "                     names = ['chr', 'start', 'end', 'name', 'score', 'strand', 'position', 'count'])\n",
    "MUT3_TES = pd.read_csv(\"/home/mp758/scratch60/SF3B1_PRC2_1/April_2022/MUT3/MUT3_cov.txt.gz\",\n",
    "                     compression = 'gzip', sep = '\\t',\n",
    "                     names = ['chr', 'start', 'end', 'name', 'score', 'strand', 'position', 'count'])\n"
   ]
  },
  {
   "cell_type": "code",
   "execution_count": 13,
   "metadata": {},
   "outputs": [],
   "source": [
    "MUT_grouped = MUT_TES.groupby(['strand', 'position']).agg({'count':'sum'}) # group by position and strand, sum all counts\n",
    "\n",
    "tmp = MUT_grouped.unstack(level='strand') # separate plus and minus strand counts\n",
    "\n",
    "tmp_plus = tmp['count', '+'].to_frame() # convert both + and - strand series to dataframes\n",
    "tmp_minus = tmp['count', '-'].to_frame()\n",
    "tmp_minus = tmp_minus[::-1] # reverse order of the entries in the minus strand df\n",
    "\n",
    "tmp_minus['new_position'] = list(range(1,1101,1)) # reset the position to be 1-50 for the minus strand so it matches plus strand (flipped)\n",
    "\n",
    "MUT_coverage = pd.merge(tmp_plus, tmp_minus, left_index = True, right_on = 'new_position')\n",
    "\n",
    "MUT_coverage['total_count'] = MUT_coverage['count', '+'] + MUT_coverage['count', '-']\n",
    "MUT_coverage = MUT_coverage[['new_position', 'total_count']] # drop separate count columns for each strand\n",
    "MUT_coverage['rel_position'] = range(-100,1000,1) # add relative position around TES\n",
    "    \n",
    "\n",
    "TES_val = MUT_coverage['total_count'].values[1] # get the coverage at the TES nucleotide position\n",
    "MUT_coverage['TES_pos_count'] = TES_val\n",
    "MUT_coverage['normalized_count'] = MUT_coverage['total_count'] / MUT_coverage['TES_pos_count'] # normalize coverage to TES coverage\n",
    "MUT_coverage['sample'] = \"MUT\" # add sample identifier\n",
    "    "
   ]
  },
  {
   "cell_type": "code",
   "execution_count": 20,
   "metadata": {},
   "outputs": [],
   "source": [
    "MUT2_grouped = MUT2_TES.groupby(['strand', 'position']).agg({'count':'sum'}) # group by position and strand, sum all counts\n",
    "\n",
    "tmp = MUT2_grouped.unstack(level='strand') # separate plus and minus strand counts\n",
    "\n",
    "tmp_plus = tmp['count', '+'].to_frame() # convert both + and - strand series to dataframes\n",
    "tmp_minus = tmp['count', '-'].to_frame()\n",
    "tmp_minus = tmp_minus[::-1] # reverse order of the entries in the minus strand df\n",
    "\n",
    "tmp_minus['new_position'] = list(range(1,1101,1)) # reset the position to be 1-50 for the minus strand so it matches plus strand (flipped)"
   ]
  },
  {
   "cell_type": "code",
   "execution_count": 21,
   "metadata": {},
   "outputs": [],
   "source": [
    "    MUT2_coverage = pd.merge(tmp_plus, tmp_minus, left_index = True, right_on = 'new_position')\n",
    "\n",
    "    MUT2_coverage['total_count'] = MUT2_coverage['count', '+'] + MUT2_coverage['count', '-']\n",
    "    MUT2_coverage = MUT2_coverage[['new_position', 'total_count']] # drop separate count columns for each strand\n",
    "    MUT2_coverage['rel_position'] = range(-100,1000,1) # add relative position around TES\n",
    "    \n",
    "\n",
    "    TES_val = MUT2_coverage['total_count'].values[1] # get the coverage at the TES nucleotide position\n",
    "    MUT2_coverage['TES_pos_count'] = TES_val\n",
    "    MUT2_coverage['normalized_count'] = MUT2_coverage['total_count'] / MUT2_coverage['TES_pos_count'] # normalize coverage to TES coverage\n",
    "    MUT2_coverage['sample'] = \"MUT2\" # add sample identifier\n",
    "    "
   ]
  },
  {
   "cell_type": "code",
   "execution_count": 22,
   "metadata": {},
   "outputs": [],
   "source": [
    "MUT1_grouped = MUT1_TES.groupby(['strand', 'position']).agg({'count':'sum'}) # group by position and strand, sum all counts\n",
    "\n",
    "tmp = MUT1_grouped.unstack(level='strand') # separate plus and minus strand counts\n",
    "\n",
    "tmp_plus = tmp['count', '+'].to_frame() # convert both + and - strand series to dataframes\n",
    "tmp_minus = tmp['count', '-'].to_frame()\n",
    "tmp_minus = tmp_minus[::-1] # reverse order of the entries in the minus strand df\n",
    "\n",
    "tmp_minus['new_position'] = list(range(1,1101,1)) # reset the position to be 1-50 for the minus strand so it matches plus strand (flipped)"
   ]
  },
  {
   "cell_type": "code",
   "execution_count": 23,
   "metadata": {},
   "outputs": [],
   "source": [
    "    MUT1_coverage = pd.merge(tmp_plus, tmp_minus, left_index = True, right_on = 'new_position')\n",
    "\n",
    "    MUT1_coverage['total_count'] = MUT1_coverage['count', '+'] + MUT1_coverage['count', '-']\n",
    "    MUT1_coverage = MUT1_coverage[['new_position', 'total_count']] # drop separate count columns for each strand\n",
    "    MUT1_coverage['rel_position'] = range(-100,1000,1) # add relative position around TES\n",
    "    \n",
    "\n",
    "    TES_val = MUT1_coverage['total_count'].values[1] # get the coverage at the TES nucleotide position\n",
    "    MUT1_coverage['TES_pos_count'] = TES_val\n",
    "    MUT1_coverage['normalized_count'] = MUT1_coverage['total_count'] / MUT1_coverage['TES_pos_count'] # normalize coverage to TES coverage\n",
    "    MUT1_coverage['sample'] = \"MUT1\" # add sample identifier\n",
    "    "
   ]
  },
  {
   "cell_type": "code",
   "execution_count": 24,
   "metadata": {},
   "outputs": [],
   "source": [
    "MUT3_grouped = MUT3_TES.groupby(['strand', 'position']).agg({'count':'sum'}) # group by position and strand, sum all counts\n",
    "\n",
    "tmp = MUT3_grouped.unstack(level='strand') # separate plus and minus strand counts\n",
    "\n",
    "tmp_plus = tmp['count', '+'].to_frame() # convert both + and - strand series to dataframes\n",
    "tmp_minus = tmp['count', '-'].to_frame()\n",
    "tmp_minus = tmp_minus[::-1] # reverse order of the entries in the minus strand df\n",
    "\n",
    "tmp_minus['new_position'] = list(range(1,1101,1)) # reset the position to be 1-50 for the minus strand so it matches plus strand (flipped)"
   ]
  },
  {
   "cell_type": "code",
   "execution_count": 25,
   "metadata": {},
   "outputs": [],
   "source": [
    "    MUT3_coverage = pd.merge(tmp_plus, tmp_minus, left_index = True, right_on = 'new_position')\n",
    "\n",
    "    MUT3_coverage['total_count'] = MUT3_coverage['count', '+'] + MUT3_coverage['count', '-']\n",
    "    MUT3_coverage = MUT3_coverage[['new_position', 'total_count']] # drop separate count columns for each strand\n",
    "    MUT3_coverage['rel_position'] = range(-100,1000,1) # add relative position around TES\n",
    "    \n",
    "\n",
    "    TES_val = MUT3_coverage['total_count'].values[1] # get the coverage at the TES nucleotide position\n",
    "    MUT3_coverage['TES_pos_count'] = TES_val\n",
    "    MUT3_coverage['normalized_count'] = MUT3_coverage['total_count'] / MUT3_coverage['TES_pos_count'] # normalize coverage to TES coverage\n",
    "    MUT3_coverage['sample'] = \"MUT3\" # add sample identifier\n",
    "    "
   ]
  }
 ],
 "metadata": {
  "kernelspec": {
   "display_name": "Python 3 (ipykernel)",
   "language": "python",
   "name": "python3"
  },
  "language_info": {
   "codemirror_mode": {
    "name": "ipython",
    "version": 3
   },
   "file_extension": ".py",
   "mimetype": "text/x-python",
   "name": "python",
   "nbconvert_exporter": "python",
   "pygments_lexer": "ipython3",
   "version": "3.10.13"
  }
 },
 "nbformat": 4,
 "nbformat_minor": 4
}
